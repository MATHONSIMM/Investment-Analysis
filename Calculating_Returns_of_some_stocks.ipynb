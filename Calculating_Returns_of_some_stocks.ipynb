{
  "nbformat": 4,
  "nbformat_minor": 0,
  "metadata": {
    "colab": {
      "provenance": [],
      "authorship_tag": "ABX9TyP+Cy8FTeHJRwUH3gpT6oeK",
      "include_colab_link": true
    },
    "kernelspec": {
      "name": "python3",
      "display_name": "Python 3"
    },
    "language_info": {
      "name": "python"
    }
  },
  "cells": [
    {
      "cell_type": "markdown",
      "metadata": {
        "id": "view-in-github",
        "colab_type": "text"
      },
      "source": [
        "<a href=\"https://colab.research.google.com/github/MATHONSIMM/Investment-Analysis/blob/main/Calculating_Returns_of_some_stocks.ipynb\" target=\"_parent\"><img src=\"https://colab.research.google.com/assets/colab-badge.svg\" alt=\"Open In Colab\"/></a>"
      ]
    },
    {
      "cell_type": "code",
      "execution_count": null,
      "metadata": {
        "id": "qfh6waYtpeyn"
      },
      "outputs": [],
      "source": [
        "# Installing yfinance\n",
        "!pip install yfinance"
      ]
    },
    {
      "cell_type": "code",
      "source": [
        "#Imports\n",
        "\n",
        "import pandas as pd\n",
        "import matplotlib.pyplot as plt\n",
        "import seaborn as sns\n",
        "sns.set()"
      ],
      "metadata": {
        "id": "f1dAeRd4sAaY"
      },
      "execution_count": 2,
      "outputs": []
    },
    {
      "source": [
        "# Installing yfinance\n",
        "!pip install yfinance\n",
        "\n",
        "# Imports\n",
        "import yfinance as yf\n",
        "import pandas as pd\n",
        "\n",
        "# Download data from yahoo finance\n",
        "coca_cola = yf.download(\"KO\", start = '2023-01-01', end = '2024-08-10')  # Change 'starts' to 'start'\n",
        "apple = yf.download(\"AAPL\", start = '2023-01-01', end = '2024-08-10')  # Change 'starts' to 'start'"
      ],
      "cell_type": "code",
      "metadata": {
        "id": "s6nBQIDDV5iB"
      },
      "execution_count": null,
      "outputs": []
    },
    {
      "cell_type": "code",
      "source": [
        "def getExpectedReturn(df,price_col_name, annualised=True, annualise_method='sophisticated'):\n",
        "  \"\"\"\n",
        "  Returns the expected return of a stock given the Adj prices of that stock.\n",
        "  \"\"\"\n",
        "\n",
        "  #Calculate returns of prices\n",
        "  returns = df[price_col_name].pct_change(1)\n",
        "\n",
        "  #Calculate the expected returns using the mean method\n",
        "  expected_return_daily = returns.mean()\n",
        "\n",
        "  if annualised:\n",
        "    if annualise_method == 'sophisticated': #Sophisticated method\n",
        "      expected_return_annual = ((1 - expected_return_daily)**250)-1\n",
        "    elif annualise_method == 'crude': #Crude method\n",
        "      expected_return = expected_return_daily * 250\n",
        "\n",
        "    return expected_return_annual\n",
        "\n",
        "  else :\n",
        "    return expected_return_daily\n",
        "\n",
        "  return expected_return"
      ],
      "metadata": {
        "id": "vOw6iy-peQdS"
      },
      "execution_count": 7,
      "outputs": []
    },
    {
      "cell_type": "code",
      "source": [
        "getExpectedReturn(coca_cola,'Adj Close')"
      ],
      "metadata": {
        "colab": {
          "base_uri": "https://localhost:8080/",
          "height": 146
        },
        "id": "4QkDyOoM8Cus",
        "outputId": "d57eac22-34b4-4e3a-94d2-8a26b60af0ee"
      },
      "execution_count": 10,
      "outputs": [
        {
          "output_type": "execute_result",
          "data": {
            "text/plain": [
              "Ticker\n",
              "KO   -0.08762\n",
              "dtype: float64"
            ],
            "text/html": [
              "<div>\n",
              "<style scoped>\n",
              "    .dataframe tbody tr th:only-of-type {\n",
              "        vertical-align: middle;\n",
              "    }\n",
              "\n",
              "    .dataframe tbody tr th {\n",
              "        vertical-align: top;\n",
              "    }\n",
              "\n",
              "    .dataframe thead th {\n",
              "        text-align: right;\n",
              "    }\n",
              "</style>\n",
              "<table border=\"1\" class=\"dataframe\">\n",
              "  <thead>\n",
              "    <tr style=\"text-align: right;\">\n",
              "      <th></th>\n",
              "      <th>0</th>\n",
              "    </tr>\n",
              "    <tr>\n",
              "      <th>Ticker</th>\n",
              "      <th></th>\n",
              "    </tr>\n",
              "  </thead>\n",
              "  <tbody>\n",
              "    <tr>\n",
              "      <th>KO</th>\n",
              "      <td>-0.08762</td>\n",
              "    </tr>\n",
              "  </tbody>\n",
              "</table>\n",
              "</div><br><label><b>dtype:</b> float64</label>"
            ]
          },
          "metadata": {},
          "execution_count": 10
        }
      ]
    },
    {
      "cell_type": "code",
      "source": [
        "getExpectedReturn(apple,'Adj Close', annualised=False)"
      ],
      "metadata": {
        "colab": {
          "base_uri": "https://localhost:8080/",
          "height": 146
        },
        "id": "luz9BuLk-zI8",
        "outputId": "55fa4cff-8c61-4534-ffac-8465d0464ffc"
      },
      "execution_count": 12,
      "outputs": [
        {
          "output_type": "execute_result",
          "data": {
            "text/plain": [
              "Ticker\n",
              "AAPL    0.001479\n",
              "dtype: float64"
            ],
            "text/html": [
              "<div>\n",
              "<style scoped>\n",
              "    .dataframe tbody tr th:only-of-type {\n",
              "        vertical-align: middle;\n",
              "    }\n",
              "\n",
              "    .dataframe tbody tr th {\n",
              "        vertical-align: top;\n",
              "    }\n",
              "\n",
              "    .dataframe thead th {\n",
              "        text-align: right;\n",
              "    }\n",
              "</style>\n",
              "<table border=\"1\" class=\"dataframe\">\n",
              "  <thead>\n",
              "    <tr style=\"text-align: right;\">\n",
              "      <th></th>\n",
              "      <th>0</th>\n",
              "    </tr>\n",
              "    <tr>\n",
              "      <th>Ticker</th>\n",
              "      <th></th>\n",
              "    </tr>\n",
              "  </thead>\n",
              "  <tbody>\n",
              "    <tr>\n",
              "      <th>AAPL</th>\n",
              "      <td>0.001479</td>\n",
              "    </tr>\n",
              "  </tbody>\n",
              "</table>\n",
              "</div><br><label><b>dtype:</b> float64</label>"
            ]
          },
          "metadata": {},
          "execution_count": 12
        }
      ]
    },
    {
      "cell_type": "code",
      "source": [
        "getExpectedReturn(coca_cola,'Adj Close', annualised=False, annualise_method='crude')"
      ],
      "metadata": {
        "colab": {
          "base_uri": "https://localhost:8080/",
          "height": 146
        },
        "id": "tcAuWjpG-_lM",
        "outputId": "987f93c0-a7c4-4082-af8f-da8506b77bd5"
      },
      "execution_count": 13,
      "outputs": [
        {
          "output_type": "execute_result",
          "data": {
            "text/plain": [
              "Ticker\n",
              "KO    0.000367\n",
              "dtype: float64"
            ],
            "text/html": [
              "<div>\n",
              "<style scoped>\n",
              "    .dataframe tbody tr th:only-of-type {\n",
              "        vertical-align: middle;\n",
              "    }\n",
              "\n",
              "    .dataframe tbody tr th {\n",
              "        vertical-align: top;\n",
              "    }\n",
              "\n",
              "    .dataframe thead th {\n",
              "        text-align: right;\n",
              "    }\n",
              "</style>\n",
              "<table border=\"1\" class=\"dataframe\">\n",
              "  <thead>\n",
              "    <tr style=\"text-align: right;\">\n",
              "      <th></th>\n",
              "      <th>0</th>\n",
              "    </tr>\n",
              "    <tr>\n",
              "      <th>Ticker</th>\n",
              "      <th></th>\n",
              "    </tr>\n",
              "  </thead>\n",
              "  <tbody>\n",
              "    <tr>\n",
              "      <th>KO</th>\n",
              "      <td>0.000367</td>\n",
              "    </tr>\n",
              "  </tbody>\n",
              "</table>\n",
              "</div><br><label><b>dtype:</b> float64</label>"
            ]
          },
          "metadata": {},
          "execution_count": 13
        }
      ]
    },
    {
      "cell_type": "code",
      "source": [],
      "metadata": {
        "id": "R7JccPSf_Wwn"
      },
      "execution_count": null,
      "outputs": []
    }
  ]
}